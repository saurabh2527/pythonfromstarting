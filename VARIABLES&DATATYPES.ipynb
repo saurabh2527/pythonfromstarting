{
 "cells": [
  {
   "cell_type": "code",
   "execution_count": 1,
   "id": "01b43dfd",
   "metadata": {},
   "outputs": [
    {
     "name": "stdout",
     "output_type": "stream",
     "text": [
      "10\n",
      "Alice\n"
     ]
    }
   ],
   "source": [
    "# Assigning values to variables\n",
    "x = 10          # Integer\n",
    "name = \"Alice\"  # String\n",
    "pi = 3.14       # Float\n",
    "is_active = True  # Boolean\n",
    "\n",
    "# Printing variables\n",
    "print(x)        # Output: 10\n",
    "print(name)     # Output: Alice"
   ]
  },
  {
   "cell_type": "markdown",
   "id": "bc091e23",
   "metadata": {},
   "source": [
    "## Exersice \n",
    "\n",
    "- Add a person with name Tony stark\n",
    "- Tony's age is 51 years old\n",
    "- Tony is a genius \n",
    "\n"
   ]
  },
  {
   "cell_type": "code",
   "execution_count": 2,
   "id": "2b78508a",
   "metadata": {},
   "outputs": [
    {
     "name": "stdout",
     "output_type": "stream",
     "text": [
      "Name: tony stark\n",
      "Age: 51\n",
      "Is_genius: True\n"
     ]
    }
   ],
   "source": [
    "First_name = \"tony\"\n",
    "Last_name =\"stark\"\n",
    "age = 51\n",
    "is_genius= True\n",
    "print(\"Name:\",First_name,Last_name)\n",
    "print(\"Age:\",age)\n",
    "print(\"Is_genius:\",is_genius) \n"
   ]
  },
  {
   "cell_type": "markdown",
   "id": "3f278f5d",
   "metadata": {},
   "source": [
    "## Input from User\n"
   ]
  },
  {
   "cell_type": "code",
   "execution_count": 3,
   "id": "563a329c",
   "metadata": {},
   "outputs": [
    {
     "name": "stdout",
     "output_type": "stream",
     "text": [
      "Hellosaurabh\n"
     ]
    }
   ],
   "source": [
    "name=input(\"What is your name?\")\n",
    "print(\"Hello\" + name)"
   ]
  },
  {
   "cell_type": "markdown",
   "id": "c6218946",
   "metadata": {},
   "source": [
    "## Exersice \n",
    "\n",
    "- Tony is secretly a superhero. Ask him for his superhero name & show it on terminal.\n"
   ]
  },
  {
   "cell_type": "code",
   "execution_count": 4,
   "id": "995ad5c2",
   "metadata": {},
   "outputs": [
    {
     "name": "stdout",
     "output_type": "stream",
     "text": [
      "your superhero name is: tony stark\n"
     ]
    }
   ],
   "source": [
    "Superhero_name = input(\"what is ypour superhero name?\")\n",
    "print(\"your superhero name is:\",Superhero_name)"
   ]
  },
  {
   "cell_type": "markdown",
   "id": "09866795",
   "metadata": {},
   "source": [
    "## Type conversion\n",
    "- Type  conversion in python refers to changing the data type of a variable or value from one type to another , such as from an \n",
    "  integer to a float , or  a string to an integer.\n",
    "\n",
    "- There arwe two types of type conversion in python.\n",
    "\n",
    "#### 1 Implicit type conversion (Automatic)\n",
    "\n",
    "- Python automatically convert one data type to another when necessary. It is done internally by python.\n",
    "\n",
    "#### 2 Explicit type conversion (manual)\n",
    "\n",
    "- You manually convert the data type using built-in functions."
   ]
  },
  {
   "cell_type": "code",
   "execution_count": 5,
   "id": "9f6f4174",
   "metadata": {},
   "outputs": [
    {
     "name": "stdout",
     "output_type": "stream",
     "text": [
      "Hellosaurabh\n"
     ]
    }
   ],
   "source": [
    "name = input('What is your name?')\n",
    "print ('Hello'+ name)"
   ]
  },
  {
   "cell_type": "code",
   "execution_count": null,
   "id": "1767f891",
   "metadata": {},
   "outputs": [],
   "source": []
  }
 ],
 "metadata": {
  "kernelspec": {
   "display_name": "Python 3",
   "language": "python",
   "name": "python3"
  },
  "language_info": {
   "codemirror_mode": {
    "name": "ipython",
    "version": 3
   },
   "file_extension": ".py",
   "mimetype": "text/x-python",
   "name": "python",
   "nbconvert_exporter": "python",
   "pygments_lexer": "ipython3",
   "version": "3.9.6"
  }
 },
 "nbformat": 4,
 "nbformat_minor": 5
}
