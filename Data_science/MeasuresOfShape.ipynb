{
 "cells": [
  {
   "cell_type": "markdown",
   "id": "ba9a1225",
   "metadata": {},
   "source": [
    "## Skewness.\n",
    "- Skewness is a measure of the asymmetry of the distribution of values in a dataset.\n",
    "- It indicates whether the data is skewness to the left or right.\n",
    "- A positive skewness indicates that the data is skewed to the right, while a negative skewness indicates that the data is skewed to the left.\n",
    "- A skewness of 0 indicates that the data is symmetric.\n",
    "- Skewness is calculated as the third standerdized moment of the data.\n",
    "- It is used to understand the distribution of the data and identify outliers.\n",
    "\n",
    "- Thers are three types of skewness:\n",
    "    - Positive skewness: The tail of the distribution is longer on the right side, indicating that the majority of the data is concentrated on the left side.\n",
    "    - Negative skewness: the tail of the distribution is longer on the left side, indicating that the majority of the data is concentrated on the right side.\n",
    "    - Zero skewness: The distribution is symmetric, with no skewness."
   ]
  },
  {
   "cell_type": "markdown",
   "id": "df60f741",
   "metadata": {},
   "source": [
    "## Frequency & Cumulative Distribution.\n",
    "- Frequency distribution shows how often each value occurs in a dataset.\n",
    "- Cumulative distribution shows the cumulative frequency of value up to a certain point.\n",
    "- Both frequncy and cumulative distribution are used to understand the distribution. "
   ]
  },
  {
   "cell_type": "markdown",
   "id": "600553fe",
   "metadata": {},
   "source": [
    "- We use a histogram to visualize the frequency distribution of a dataset.\n",
    "- A histogram is a graphical representation of the frequency distribution od a dataset.\n",
    "- It is used to understand the distriubution of the data and identify outliers.\n"
   ]
  },
  {
   "cell_type": "code",
   "execution_count": 2,
   "id": "82683d62",
   "metadata": {},
   "outputs": [],
   "source": [
    "import numpy as np \n",
    "import pandas as pd \n",
    "import matplotlib.pyplot as plt \n",
    "import seaborn as sns"
   ]
  },
  {
   "cell_type": "code",
   "execution_count": 3,
   "id": "f02680e6",
   "metadata": {},
   "outputs": [
    {
     "data": {
      "text/html": [
       "<div>\n",
       "<style scoped>\n",
       "    .dataframe tbody tr th:only-of-type {\n",
       "        vertical-align: middle;\n",
       "    }\n",
       "\n",
       "    .dataframe tbody tr th {\n",
       "        vertical-align: top;\n",
       "    }\n",
       "\n",
       "    .dataframe thead th {\n",
       "        text-align: right;\n",
       "    }\n",
       "</style>\n",
       "<table border=\"1\" class=\"dataframe\">\n",
       "  <thead>\n",
       "    <tr style=\"text-align: right;\">\n",
       "      <th></th>\n",
       "      <th>id</th>\n",
       "      <th>date</th>\n",
       "      <th>price</th>\n",
       "      <th>bedrooms</th>\n",
       "      <th>bathrooms</th>\n",
       "      <th>sqft_living</th>\n",
       "      <th>sqft_lot</th>\n",
       "      <th>floors</th>\n",
       "      <th>waterfront</th>\n",
       "      <th>view</th>\n",
       "      <th>...</th>\n",
       "      <th>grade</th>\n",
       "      <th>sqft_above</th>\n",
       "      <th>sqft_basement</th>\n",
       "      <th>yr_built</th>\n",
       "      <th>yr_renovated</th>\n",
       "      <th>zipcode</th>\n",
       "      <th>lat</th>\n",
       "      <th>long</th>\n",
       "      <th>sqft_living15</th>\n",
       "      <th>sqft_lot15</th>\n",
       "    </tr>\n",
       "  </thead>\n",
       "  <tbody>\n",
       "    <tr>\n",
       "      <th>0</th>\n",
       "      <td>7129300520</td>\n",
       "      <td>20141013T000000</td>\n",
       "      <td>221900.0</td>\n",
       "      <td>3</td>\n",
       "      <td>1.00</td>\n",
       "      <td>1180</td>\n",
       "      <td>5650</td>\n",
       "      <td>1.0</td>\n",
       "      <td>0</td>\n",
       "      <td>0</td>\n",
       "      <td>...</td>\n",
       "      <td>7</td>\n",
       "      <td>1180</td>\n",
       "      <td>0</td>\n",
       "      <td>1955</td>\n",
       "      <td>0</td>\n",
       "      <td>98178</td>\n",
       "      <td>47.5112</td>\n",
       "      <td>-122.257</td>\n",
       "      <td>1340</td>\n",
       "      <td>5650</td>\n",
       "    </tr>\n",
       "    <tr>\n",
       "      <th>1</th>\n",
       "      <td>6414100192</td>\n",
       "      <td>20141209T000000</td>\n",
       "      <td>538000.0</td>\n",
       "      <td>3</td>\n",
       "      <td>2.25</td>\n",
       "      <td>2570</td>\n",
       "      <td>7242</td>\n",
       "      <td>2.0</td>\n",
       "      <td>0</td>\n",
       "      <td>0</td>\n",
       "      <td>...</td>\n",
       "      <td>7</td>\n",
       "      <td>2170</td>\n",
       "      <td>400</td>\n",
       "      <td>1951</td>\n",
       "      <td>1991</td>\n",
       "      <td>98125</td>\n",
       "      <td>47.7210</td>\n",
       "      <td>-122.319</td>\n",
       "      <td>1690</td>\n",
       "      <td>7639</td>\n",
       "    </tr>\n",
       "    <tr>\n",
       "      <th>2</th>\n",
       "      <td>5631500400</td>\n",
       "      <td>20150225T000000</td>\n",
       "      <td>180000.0</td>\n",
       "      <td>2</td>\n",
       "      <td>1.00</td>\n",
       "      <td>770</td>\n",
       "      <td>10000</td>\n",
       "      <td>1.0</td>\n",
       "      <td>0</td>\n",
       "      <td>0</td>\n",
       "      <td>...</td>\n",
       "      <td>6</td>\n",
       "      <td>770</td>\n",
       "      <td>0</td>\n",
       "      <td>1933</td>\n",
       "      <td>0</td>\n",
       "      <td>98028</td>\n",
       "      <td>47.7379</td>\n",
       "      <td>-122.233</td>\n",
       "      <td>2720</td>\n",
       "      <td>8062</td>\n",
       "    </tr>\n",
       "    <tr>\n",
       "      <th>3</th>\n",
       "      <td>2487200875</td>\n",
       "      <td>20141209T000000</td>\n",
       "      <td>604000.0</td>\n",
       "      <td>4</td>\n",
       "      <td>3.00</td>\n",
       "      <td>1960</td>\n",
       "      <td>5000</td>\n",
       "      <td>1.0</td>\n",
       "      <td>0</td>\n",
       "      <td>0</td>\n",
       "      <td>...</td>\n",
       "      <td>7</td>\n",
       "      <td>1050</td>\n",
       "      <td>910</td>\n",
       "      <td>1965</td>\n",
       "      <td>0</td>\n",
       "      <td>98136</td>\n",
       "      <td>47.5208</td>\n",
       "      <td>-122.393</td>\n",
       "      <td>1360</td>\n",
       "      <td>5000</td>\n",
       "    </tr>\n",
       "    <tr>\n",
       "      <th>4</th>\n",
       "      <td>1954400510</td>\n",
       "      <td>20150218T000000</td>\n",
       "      <td>510000.0</td>\n",
       "      <td>3</td>\n",
       "      <td>2.00</td>\n",
       "      <td>1680</td>\n",
       "      <td>8080</td>\n",
       "      <td>1.0</td>\n",
       "      <td>0</td>\n",
       "      <td>0</td>\n",
       "      <td>...</td>\n",
       "      <td>8</td>\n",
       "      <td>1680</td>\n",
       "      <td>0</td>\n",
       "      <td>1987</td>\n",
       "      <td>0</td>\n",
       "      <td>98074</td>\n",
       "      <td>47.6168</td>\n",
       "      <td>-122.045</td>\n",
       "      <td>1800</td>\n",
       "      <td>7503</td>\n",
       "    </tr>\n",
       "  </tbody>\n",
       "</table>\n",
       "<p>5 rows × 21 columns</p>\n",
       "</div>"
      ],
      "text/plain": [
       "           id             date     price  bedrooms  bathrooms  sqft_living  \\\n",
       "0  7129300520  20141013T000000  221900.0         3       1.00         1180   \n",
       "1  6414100192  20141209T000000  538000.0         3       2.25         2570   \n",
       "2  5631500400  20150225T000000  180000.0         2       1.00          770   \n",
       "3  2487200875  20141209T000000  604000.0         4       3.00         1960   \n",
       "4  1954400510  20150218T000000  510000.0         3       2.00         1680   \n",
       "\n",
       "   sqft_lot  floors  waterfront  view  ...  grade  sqft_above  sqft_basement  \\\n",
       "0      5650     1.0           0     0  ...      7        1180              0   \n",
       "1      7242     2.0           0     0  ...      7        2170            400   \n",
       "2     10000     1.0           0     0  ...      6         770              0   \n",
       "3      5000     1.0           0     0  ...      7        1050            910   \n",
       "4      8080     1.0           0     0  ...      8        1680              0   \n",
       "\n",
       "   yr_built  yr_renovated  zipcode      lat     long  sqft_living15  \\\n",
       "0      1955             0    98178  47.5112 -122.257           1340   \n",
       "1      1951          1991    98125  47.7210 -122.319           1690   \n",
       "2      1933             0    98028  47.7379 -122.233           2720   \n",
       "3      1965             0    98136  47.5208 -122.393           1360   \n",
       "4      1987             0    98074  47.6168 -122.045           1800   \n",
       "\n",
       "   sqft_lot15  \n",
       "0        5650  \n",
       "1        7639  \n",
       "2        8062  \n",
       "3        5000  \n",
       "4        7503  \n",
       "\n",
       "[5 rows x 21 columns]"
      ]
     },
     "execution_count": 3,
     "metadata": {},
     "output_type": "execute_result"
    }
   ],
   "source": [
    "df=pd.read_csv(\"/Users/saurabhkannaujia/2024-python -digipodium/data analtysis/kc_data.csv\")\n",
    "df.head(5)"
   ]
  },
  {
   "cell_type": "code",
   "execution_count": 4,
   "id": "1339cfc3",
   "metadata": {},
   "outputs": [
    {
     "data": {
      "text/plain": [
       "4.024069144684712"
      ]
     },
     "execution_count": 4,
     "metadata": {},
     "output_type": "execute_result"
    }
   ],
   "source": [
    "df[\"price\"].skew()"
   ]
  },
  {
   "cell_type": "code",
   "execution_count": 5,
   "id": "17f280fa",
   "metadata": {},
   "outputs": [
    {
     "data": {
      "text/plain": [
       "<function matplotlib.pyplot.show(close=None, block=None)>"
      ]
     },
     "execution_count": 5,
     "metadata": {},
     "output_type": "execute_result"
    },
    {
     "data": {
      "image/png": "[encoded data removed]",
      "text/plain": [
       "<Figure size 640x480 with 1 Axes>"
      ]
     },
     "metadata": {},
     "output_type": "display_data"
    }
   ],
   "source": [
    "sns.histplot(x=\"price\",data=df)\n",
    "plt.show"
   ]
  },
  {
   "cell_type": "code",
   "execution_count": 6,
   "id": "4f93d416",
   "metadata": {},
   "outputs": [
    {
     "data": {
      "text/plain": [
       "array([  21.43096758,   32.66592933,  106.61442454,   13.16458616,\n",
       "        -51.57658014,  -29.34023567,  217.1261276 ,   32.71639369,\n",
       "          9.36653383,  208.27533983,    5.02005853,   59.89095888,\n",
       "        -69.59897738,  -46.97051349,  221.76141051,   -0.56668994,\n",
       "         27.87201487, -154.48832523,    1.34632638,  -57.94731471,\n",
       "        160.14815928,  -81.80008091,   82.45929106,    8.77107558,\n",
       "        -11.16415229,   23.00993498,  -18.93554225,  -20.32359833,\n",
       "         81.25360103, -111.99543366,   98.69088079,  -42.87432839,\n",
       "        -52.02108796, -110.89043994,   23.68966773,   91.67083251,\n",
       "        -40.49117672,    1.97424249,  -86.05656426,  -30.67783023,\n",
       "         43.85664836,   73.01871523,  -44.65523599,  168.63620902,\n",
       "       -125.29576287,    6.04951899,  -11.11501156,  -61.85148348,\n",
       "         77.4898607 ,  -10.01615428, -120.21225991,   40.81498668,\n",
       "         15.29423435,  144.97457577,  160.77314973, -125.02364925,\n",
       "         27.24148105,   50.28894701,   48.20769288,  161.06651505,\n",
       "        -44.80014607,   46.78223417,  -75.42133917,  -18.79508396,\n",
       "         61.19384577, -139.44985242,   -0.91823411, -275.73294543,\n",
       "        103.41000679,  -84.59219415,   -9.77944223,   82.9991416 ,\n",
       "        -86.72885264,   -6.18991985,  110.88918798,  -46.43244278,\n",
       "        -83.86882937,  -24.28692942,  -26.43350885,  -70.18718505,\n",
       "         18.05032754, -209.67301847, -103.89107356,  -98.63333141,\n",
       "        -48.06871247,  -43.93337229,  -40.07047563,  -80.56035768,\n",
       "         83.28655521,  120.27311807,   93.13721712,  252.64626508,\n",
       "         45.18317882,   88.88557398,   34.86081748,  -19.90377676,\n",
       "       -125.87916998,   54.77229774,  -40.87826712,  163.27768015])"
      ]
     },
     "execution_count": 6,
     "metadata": {},
     "output_type": "execute_result"
    }
   ],
   "source": [
    "df=np.random.normal(0,100,100)\n",
    "df"
   ]
  },
  {
   "cell_type": "code",
   "execution_count": 7,
   "id": "dab4c762",
   "metadata": {},
   "outputs": [
    {
     "data": {
      "text/plain": [
       "0.16665669548665293"
      ]
     },
     "execution_count": 7,
     "metadata": {},
     "output_type": "execute_result"
    }
   ],
   "source": [
    "data=pd.DataFrame({\"x\":df})\n",
    "data[\"x\"].skew()"
   ]
  },
  {
   "cell_type": "code",
   "execution_count": 8,
   "id": "a14104d0",
   "metadata": {},
   "outputs": [
    {
     "data": {
      "text/plain": [
       "<function matplotlib.pyplot.show(close=None, block=None)>"
      ]
     },
     "execution_count": 8,
     "metadata": {},
     "output_type": "execute_result"
    },
    {
     "data": {
      "image/png": "[encoded data removed]",
      "text/plain": [
       "<Figure size 640x480 with 1 Axes>"
      ]
     },
     "metadata": {},
     "output_type": "display_data"
    }
   ],
   "source": [
    "sns.histplot(x=\"x\",data=data)\n",
    "plt.show"
   ]
  }
 ],
 "metadata": {
  "kernelspec": {
   "display_name": "Python 3",
   "language": "python",
   "name": "python3"
  },
  "language_info": {
   "codemirror_mode": {
    "name": "ipython",
    "version": 3
   },
   "file_extension": ".py",
   "mimetype": "text/x-python",
   "name": "python",
   "nbconvert_exporter": "python",
   "pygments_lexer": "ipython3",
   "version": "3.9.6"
  }
 },
 "nbformat": 4,
 "nbformat_minor": 5
}
