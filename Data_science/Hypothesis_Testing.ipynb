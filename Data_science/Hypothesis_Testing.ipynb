{
 "cells": [
  {
   "cell_type": "markdown",
   "id": "31855bef",
   "metadata": {},
   "source": [
    "# Hypothesis Testing.\n",
    "- It is a part of statistics analysis, where ew test the assumotion mode regarding a population parameter. It is generally used when we were to compare a single group with an external standerd and two ai more gruops wuth each other.\n",
    "\n",
    "     - Null Hypothesis : Null hypothesis is a statistical theory that suggest there is no statistical significance between the population . It is denoted by H0 and read as H-naught.\n",
    "     \n",
    "     - Alternative Hypothesis : An alternative hypothesis suggest there is a significant difference between the population parameter. It could be greater or smaller. Basically, it is the contrast of the null hypothesis.it is denoted by H1 or Ha .\n",
    "\n",
    "### Steps of Hypothesis Testing.\n",
    "    - State null(H0) and alternative(H1) hypothesis:- H0 must always cantain equality( = ). H1 always cantain difference ( >, <, ≠ ). \n",
    "    - choose level of significance(a):- \n",
    "    - find critical values.\n",
    "    - Find test statistic.\n",
    "    - Drow your conclusion.    \n",
    "\n",
    "\n"
   ]
  },
  {
   "cell_type": "markdown",
   "id": "4934eb2c",
   "metadata": {},
   "source": []
  }
 ],
 "metadata": {
  "language_info": {
   "name": "python"
  }
 },
 "nbformat": 4,
 "nbformat_minor": 5
}
