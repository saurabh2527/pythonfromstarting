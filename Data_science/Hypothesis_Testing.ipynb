{
 "cells": [
  {
   "cell_type": "markdown",
   "id": "31855bef",
   "metadata": {},
   "source": [
    "# Hypothesis Testing.\n",
    "- It is a part of statistics analysis, where ew test the assumotion mode regarding a population parameter. It is generally used when we were to compare a single group with an external standerd and two ai more gruops wuth each other.\n",
    "\n",
    "     - Null Hypothesis : Null hypothesis is a statistical theory that suggest there is no statistical significance between the population . It is denoted by H0 and read as H-naught.\n",
    "     \n",
    "     - Alternative Hypothesis : An alternative hypothesis suggest there is a significant difference between the population parameter. It could be greater or smaller. Basically, it is the contrast of the null hypothesis.it is denoted by H1 or Ha .\n",
    "\n",
    "### Steps of Hypothesis Testing.\n",
    "- State null(H0) and alternative(H1) hypothesis:- H0 must always cantain equality( = ). H1 always cantain difference ( >, <, ≠ ). \n",
    "\n",
    "- choose level of significance(alpha):- It is the probability of rejecting the null hypothesis when it is true. It is denoted by (𝛼) and is generally set to 0.05%.\n",
    "\n",
    "- Find test statistic.\n",
    "     - Z-Test: It will work when  we find the mean or standard deviation of the population data. It is used when the sample size is greater then 30.\n",
    "\n",
    "     - T-Test: It will work when we find the mean of the population data or standerd deviation of the sample data. It is used when the samlpe size  is less the 30.\n",
    "\n",
    "     - Chi_square Test: It is used when we want ot find the relationahip between two categorical variables.\n",
    "\n",
    "     \n",
    "\n",
    "- Find critical values:-  Z-value , T-value, Chi_square value, ect\n",
    "\n",
    "- Draw your conclusion. H0 is rejected if the test statistic is grater than the critical value. Ha is accepted if the test statistic is less than the critical value.\n",
    "\n",
    "\n"
   ]
  },
  {
   "cell_type": "markdown",
   "id": "6e422894",
   "metadata": {},
   "source": [
    "# Z-Test.\n",
    "\n",
    "- Formula:\n",
    "   Z=(X̄ - μ) / (σ/√n)\n",
    "   \n",
    "- Where:\n",
    "   - X̄ = sample mean\n",
    "   - μ = population mean\n",
    "   - σ = population standard deviation\n",
    "   - n = sample size\n",
    "\n",
    "\n"
   ]
  },
  {
   "cell_type": "markdown",
   "id": "b22290ae",
   "metadata": {},
   "source": [
    "- Example : A teacher claims that the mean score of students in his class is greater than 82 with a standard deviation of 20. If a sample of 81 students was selected with a mean score of 90.\n",
    "\n",
    "- Answer:\n",
    "   - Null Hypothesis (H0): μ ≠ 82\n",
    "   - Alternative Hypothesis (H1): μ > 82\n",
    "   - Level of significance (α): 0.05\n",
    "   - Sample mean (X̄): 90\n",
    "   - Population mean (μ): 82\n",
    "   - Population standard deviation (σ): 20\n",
    "   - Sample size (n): 81\n",
    "\n",
    "   - Z value = (90 - 82) / (20-√81) = 3.6.  Answer."
   ]
  },
  {
   "cell_type": "code",
   "execution_count": 3,
   "id": "bf28c2cc",
   "metadata": {},
   "outputs": [],
   "source": [
    "import numpy as np  \n",
    "import pandas as pd \n",
    "import matplotlib.pyplot as plt \n",
    "import seaborn as sns\n",
    "import scipy.stats as stats\n"
   ]
  },
  {
   "cell_type": "code",
   "execution_count": 4,
   "id": "9b06d03f",
   "metadata": {},
   "outputs": [],
   "source": [
    "X̄ =90 \n",
    "μ = 82 \n",
    "σ = 20\n",
    "n = 81"
   ]
  },
  {
   "cell_type": "code",
   "execution_count": 5,
   "id": "098e7b89",
   "metadata": {},
   "outputs": [
    {
     "data": {
      "text/plain": [
       "3.5999999999999996"
      ]
     },
     "execution_count": 5,
     "metadata": {},
     "output_type": "execute_result"
    }
   ],
   "source": [
    " \n",
    "z_cal = (X̄ - μ) / (σ / np.sqrt(n))\n",
    "z_cal"
   ]
  },
  {
   "cell_type": "code",
   "execution_count": 6,
   "id": "cf546647",
   "metadata": {},
   "outputs": [],
   "source": [
    "z_table=stats.norm.ppf(0.95) # value of z at 95% confidence level."
   ]
  },
  {
   "cell_type": "code",
   "execution_count": 7,
   "id": "e8940769",
   "metadata": {},
   "outputs": [
    {
     "name": "stdout",
     "output_type": "stream",
     "text": [
      "Ha is right \n"
     ]
    }
   ],
   "source": [
    "if z_cal > z_table : \n",
    "    print(\"Ha is right \")\n",
    "else:\n",
    "    print(\"H0 is right\")"
   ]
  },
  {
   "cell_type": "markdown",
   "id": "ddd28d32",
   "metadata": {},
   "source": [
    "# T-Test.\n",
    "\n",
    "- Formula:\n",
    "   t = (X̄ - μ) / (s/√n)\n",
    "\n",
    "- Example :  a manifecturer claims that the average weight of a bag of potato chips is 150 grams. A sample of 25 bags is taken, and the average weight is found to be 148 grtams, with a standerd deviation of 5 grams. Test the manufecturer's claims using a one-Tailed t-test with asignificance level of 0.05.\n",
    "\n",
    "- Answer:\n",
    "   - Null Hypothesis (H0): μ = 150\n",
    "   - Alternative Hypothesis (H1): μ < 150\n",
    "   - Level of significance (α): 0.05\n",
    "   - Sample mean (X̄): 148\n",
    "   - Population mean (μ): 150\n",
    "   - Sample standard deviation (s): 5\n",
    "   - Sample size (n): 25\n",
    "\n",
    "   - t value = (148 - 150) / (5/√25) = -2.0. Answer."
   ]
  },
  {
   "cell_type": "code",
   "execution_count": 8,
   "id": "7d5b1579",
   "metadata": {},
   "outputs": [],
   "source": [
    "µ=150\n",
    "σ=0.05\n",
    "n=25\n",
    "x̄=148\n",
    "s=5\n"
   ]
  },
  {
   "cell_type": "code",
   "execution_count": 9,
   "id": "c182692c",
   "metadata": {},
   "outputs": [
    {
     "data": {
      "text/plain": [
       "-2.0"
      ]
     },
     "execution_count": 9,
     "metadata": {},
     "output_type": "execute_result"
    }
   ],
   "source": [
    "t_test = (x̄ - µ) / (s / np.sqrt(n))\n",
    "t_test"
   ]
  },
  {
   "cell_type": "code",
   "execution_count": 18,
   "id": "f98c0792",
   "metadata": {},
   "outputs": [
    {
     "data": {
      "text/plain": [
       "-1.6448536269514729"
      ]
     },
     "execution_count": 18,
     "metadata": {},
     "output_type": "execute_result"
    }
   ],
   "source": [
    "t_table=stats.norm.ppf(0.05)\n",
    "t_table"
   ]
  },
  {
   "cell_type": "markdown",
   "id": "9db93a1d",
   "metadata": {},
   "source": [
    "# Chai-Square Test.\n",
    "- Formula:\n",
    "   χ² = Σ((Oi - Ei)² / Ei)\n",
    "\n",
    "   - Where:\n",
    "        - Oi = observed frequency\n",
    "        - Ei = expected frequency\n",
    "        \n"
   ]
  },
  {
   "cell_type": "markdown",
   "id": "e48d7b8c",
   "metadata": {},
   "source": [
    "- Example : A fair die is rolled 120 times and following result are obtained:\n",
    "   - | Face 1:| 22 times |\n",
    "   - | Face 2:| 17 times |\n",
    "   - | Face 3:| 20 times |\n",
    "   - | Face 4:| 26 times |\n",
    "   - | Face 5:| 22 times |\n",
    "   - | Face 6:| 13 times |\n",
    "   - Test at a 5% level of significance whether the die is fair.\n",
    "\n",
    "- Answer: Let us take the null hypothesis that the die is fair. That is, the probability of getting any face is equal to 1/6. The expected frequency for each face is 120/6 = 20.\n",
    "\n",
    "   - Observed frequency (Oi):\n",
    "     - Face 1: 22\n",
    "     - Face 2: 17\n",
    "     - Face 3: 20\n",
    "     - Face 4: 26\n",
    "     - Face 5: 22\n",
    "     - Face 6: 13\n",
    "\n",
    "   - Expected frequency (Ei): 20 for each face\n",
    "\n",
    "   - Now, we can calculate the chi-square statistic:\n",
    "     χ² = ((22-20)² / 20) + ((17-20)² / 20) + ((20-20)² / 20) + ((26-20)² / 20) + ((22-20)² / 20) + ((13-20)² / 20)\n",
    "\n",
    "   - After calculating, we find χ² = 4.05.\n",
    "\n",
    "   - The critical value for χ² with (k-1) degrees of freedom at a significance level of α = 0.05 is approximately 11.07 (for k=6).\n",
    "\n",
    "   - Since χ² < critical value, we fail to reject the null hypothesis. Thus, we conclude that the die is fair.\n",
    "# --- IGNORE ---\n",
    "   "
   ]
  },
  {
   "cell_type": "code",
   "execution_count": 19,
   "id": "3f0f3919",
   "metadata": {},
   "outputs": [
    {
     "data": {
      "text/plain": [
       "5.1000000000000005"
      ]
     },
     "execution_count": 19,
     "metadata": {},
     "output_type": "execute_result"
    }
   ],
   "source": [
    "ob = np.array([22,17,20,26,22,13])\n",
    "ex = np.array([20,20,20,20,20,20])\n",
    "chi_square = np.sum((ob - ex) ** 2 / ex)\n",
    "chi_square\n"
   ]
  },
  {
   "cell_type": "code",
   "execution_count": null,
   "id": "63ca0017",
   "metadata": {},
   "outputs": [],
   "source": []
  }
 ],
 "metadata": {
  "kernelspec": {
   "display_name": "Python 3",
   "language": "python",
   "name": "python3"
  },
  "language_info": {
   "codemirror_mode": {
    "name": "ipython",
    "version": 3
   },
   "file_extension": ".py",
   "mimetype": "text/x-python",
   "name": "python",
   "nbconvert_exporter": "python",
   "pygments_lexer": "ipython3",
   "version": "3.9.6"
  }
 },
 "nbformat": 4,
 "nbformat_minor": 5
}
