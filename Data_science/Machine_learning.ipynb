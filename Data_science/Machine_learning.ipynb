# What is Machine Leaening?

- Machine Learning is the science of getting computer to learn act like humans do, and improve their learning over time in autonomus fashion, by feeding them data and information in the form of observations and real-world interactions.



- It is a sub set of Artificial Intellighence (AI) that focuses on the development of algorithums that can learn from and make predictions on data.
# How does Machine Learning Work?

- A machine learning system learns historical data, build the prediction models, and whenever it receives new data, predict the output for it.

# Classification Of Machine Learning.

   - supervised Learning.

   - Unsupervised Learning.

   - Reinforcement Learning.
