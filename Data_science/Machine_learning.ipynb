{
 "cells": [
  {
   "cell_type": "markdown",
   "id": "2bd95e8c",
   "metadata": {},
   "source": [
    "# What is Machine Leaening?\n",
    "- Machine Learning is the science of getting computer to learn act like humans do, and improve their learning over time in autonomus fashion, by feeding them data and information in the form of observations and real-world interactions.\n",
    "\n",
    "- It is a sub set of Artificial Intellighence (AI) that focuses on the development of algorithums that can learn from and make predictions on data."
   ]
  },
  {
   "cell_type": "markdown",
   "id": "5747e7aa",
   "metadata": {},
   "source": [
    "# How does Machine Learning Work?\n",
    "- A machine learning system learns historical data, build the prediction models, and whenever it receives new data, predict the output for it.\n",
    "\n",
    "- ![alt text](image.png)"
   ]
  },
  {
   "cell_type": "markdown",
   "id": "74ff0799",
   "metadata": {},
   "source": [
    "# Classification Of Machine Learning.\n",
    "   - supervised Learning.\n",
    "   - Unsupervised Learning.\n",
    "   - Reinforcement Learning."
   ]
  },
  {
   "cell_type": "markdown",
   "id": "9d6fa3c4",
   "metadata": {},
   "source": []
  }
 ],
 "metadata": {
  "language_info": {
   "name": "python"
  }
 },
 "nbformat": 4,
 "nbformat_minor": 5
}
