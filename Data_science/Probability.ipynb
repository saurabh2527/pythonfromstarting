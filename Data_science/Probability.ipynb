{
 "cells": [
  {
   "cell_type": "markdown",
   "id": "0ca82d37",
   "metadata": {},
   "source": [
    "# Random variables.\n",
    "- a random variable X is a function that assigns a real number to each outcomes in a sample space of a ramdom experimaent.\n",
    "- a random variable is denoted by a capital letter, e.g. X, Y.\n",
    "\n",
    "## There are two type of random variables:\n",
    "\n",
    "- Disrete random variable: a randon variable that can take on a countable number of values.\n",
    "   - example: the number of head in 10 tosses of a coin.\n",
    "\n",
    "- Continuous random variable: a random variable that can take on an uncountable number of values.\n",
    "    - example: the height of a person.\n"
   ]
  },
  {
   "cell_type": "markdown",
   "id": "31f89442",
   "metadata": {},
   "source": [
    "#  Probaility.\n",
    " - Probailty os a measure of the likelihood that an event will occur.\n",
    " - the probaility of an event is a number between 0 and 1, incluswive.\n",
    " - the probaility of an event is denoted by P(A), where a is the event.\n",
    "\n",
    "    - P(A) = Number of times A occurs / Total number of outcomes in the sample space."
   ]
  },
  {
   "cell_type": "markdown",
   "id": "1b7ad104",
   "metadata": {},
   "source": [
    "# Probaility distribution & Function.\n",
    "- A probaility distribution is a function that describe the likelihood of each possible outcome of a random variable.\n",
    "   - Discete Probaility Distributions.\n",
    "   - Continuous Probaiblity Distributions.\n",
    "   \n",
    "- A probaility function is a function that assigns a probaility to each passible outcome of a random nariable.\n",
    " \n",
    "   - Probability Density Function (PDF): For continuous random variables, The PDF is a function that describes the likelihood of each possible outcome of a random variable.\n",
    "\n",
    "   - Probaility Mass Function (PMF): For discrete random variables, The PMF is a function that assigns a probaility to each passible outcome of a random variable.\n",
    "   \n",
    "   - Cumulative Distribution Function (CDF): The CDF is a function that describes the cumulative probaility of a random variable, i.e. the probabilty that the random variable is less than or equal to a given value.\n",
    "\n"
   ]
  },
  {
   "cell_type": "markdown",
   "id": "61028ab2",
   "metadata": {},
   "source": [
    "# Normal Distribution.\n",
    "- It known as the gaussian distribution, is a probaility distribution that is symmetric about the mean, showing that data near the mean are more frequent in occurrance than data for from the mean. In graph from normal distribution will appear as a bell curve.\n",
    "\n",
    "  - f(x)= 1/σ√2∏ * e^-1/2(x-µ/σ)^2\n"
   ]
  },
  {
   "cell_type": "code",
   "execution_count": null,
   "id": "70205b67",
   "metadata": {},
   "outputs": [],
   "source": []
  }
 ],
 "metadata": {
  "kernelspec": {
   "display_name": "Python 3",
   "language": "python",
   "name": "python3"
  },
  "language_info": {
   "name": "python",
   "version": "3.9.6"
  }
 },
 "nbformat": 4,
 "nbformat_minor": 5
}
