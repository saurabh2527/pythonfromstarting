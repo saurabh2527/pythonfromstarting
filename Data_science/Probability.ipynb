{
 "cells": [
  {
   "cell_type": "markdown",
   "id": "0ca82d37",
   "metadata": {},
   "source": [
    "## Random variables.\n",
    "- a random variable X is a function that assigns a real number to each outcomes in a sample space of a ramdom experimaent.\n",
    "- a random variable is denoted by a capital letter, e.g. X, Y."
   ]
  },
  {
   "cell_type": "markdown",
   "id": "31f89442",
   "metadata": {},
   "source": []
  }
 ],
 "metadata": {
  "language_info": {
   "name": "python"
  }
 },
 "nbformat": 4,
 "nbformat_minor": 5
}
