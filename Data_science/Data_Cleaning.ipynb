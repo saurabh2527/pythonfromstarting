{
 "cells": [
  {
   "cell_type": "markdown",
   "id": "b0b5430f",
   "metadata": {},
   "source": [
    "# Data Cleaning.\n",
    "- Data cleaning is the process of preparing data for analysisML/DL by removing or modifying data that is incorrect, incomplete, irrelevent, duplicated, or improperly formatted.\n",
    "\n",
    "- convert categorical data to numerical data."
   ]
  },
  {
   "cell_type": "markdown",
   "id": "2b72db67",
   "metadata": {},
   "source": [
    "## Steps of Data Cleaning.\n",
    "- **Step 1: Handling Missing Values**\n",
    "- **Step 2: Outlier Detectionand Handling**\n",
    "- **Step 3: Data Scaling and Transformation**\n",
    "- **Step 4: Encoding Categorical Variables**\n",
    "- **Step 5: Handling Duplicates**\n",
    "- **step 6: Dealing with Inconsistent Data**"
   ]
  },
  {
   "cell_type": "markdown",
   "id": "a047f05d",
   "metadata": {},
   "source": []
  }
 ],
 "metadata": {
  "language_info": {
   "name": "python"
  }
 },
 "nbformat": 4,
 "nbformat_minor": 5
}
