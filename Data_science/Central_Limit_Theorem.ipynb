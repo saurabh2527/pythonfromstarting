{
 "cells": [
  {
   "cell_type": "markdown",
   "id": "0cd329dc",
   "metadata": {},
   "source": [
    "# Central Limit Theorem.\n",
    "- The central limit theorem states that when plotting the sample will be equal to the population mean and the sample distribution will approach a normal distribution with variance equal to standard error.\n",
    "\n",
    "### There are a few assumption behind the CLT:\n",
    "- the sample data must be sampled and selected randomly from the population.\n",
    "\n",
    "- There should not be any multicollinearity in the sampled data which is one sample shoud not influance the other sample.\n",
    "\n",
    "- The sample size should be no more than 10% of the population. Generally sample size greater than 30(n>30) is considered to be a good sample size."
   ]
  }
 ],
 "metadata": {
  "kernelspec": {
   "display_name": "Python 3",
   "language": "python",
   "name": "python3"
  },
  "language_info": {
   "name": "python",
   "version": "3.9.6"
  }
 },
 "nbformat": 4,
 "nbformat_minor": 5
}
